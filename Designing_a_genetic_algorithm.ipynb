{
 "cells": [
  {
   "cell_type": "code",
   "execution_count": 200,
   "metadata": {},
   "outputs": [],
   "source": [
    "import numpy as np\n",
    "from numpy import random\n",
    "import matplotlib.pyplot as plt"
   ]
  },
  {
   "cell_type": "code",
   "execution_count": 201,
   "metadata": {},
   "outputs": [],
   "source": [
    "number_of_generations = 100\n",
    "size_of_population = 1000\n",
    "size_of_individual = 2\n",
    "    \n",
    "def genetic_algo():\n",
    "\n",
    "    #initialisation\n",
    "    number_of_parents =100\n",
    "    population = np.random.randint(low = (-12.0,6.0), high = (12.0,7.0), \\\n",
    "                                   size=(size_of_population,size_of_individual)).astype('float')\n",
    "\n",
    "    generation_max = []\n",
    "    generation_mean = []\n",
    "    for j in range(number_of_generations):\n",
    "        #print(j)\n",
    "\n",
    "        #evaluation\n",
    "        objective_function_output  = []\n",
    "        for i in range(size_of_population):\n",
    "            x1 = population[i,0] \n",
    "            x2 = population[i,1]\n",
    "            objective_function = 21.5 + x1*np.sin(4*np.pi*x1) + x2*np.sin(20*np.pi*x2) \n",
    "            objective_function_output.append(objective_function)\n",
    "\n",
    "        generation_max.append(np.max(objective_function_output))\n",
    "        generation_mean.append(np.mean(objective_function_output))\n",
    "        \n",
    "        #selection of parents    \n",
    "        sorted_population = np.argsort(-np.array(objective_function_output))\n",
    "        parents = population[sorted_population[0:number_of_parents],:]\n",
    "\n",
    "        #recombining parents \n",
    "        set1_parents = parents[np.arange(0,number_of_parents,2),:]\n",
    "        set2_parents = parents[np.arange(1,number_of_parents,2),:]\n",
    "        offspring = (set1_parents + set2_parents)//2\n",
    "\n",
    "        #mutation\n",
    "        random_mutation = random.uniform(low = (-2,0), high = (2,0), size = offspring.shape )\n",
    "        mutated_offspring = np.round(offspring + random_mutation)\n",
    "        for i in range(mutated_offspring.shape[0]):\n",
    "            x1 = mutated_offspring[i,0]\n",
    "            if x1 > 12:\n",
    "                mutated_offspring[i,0] = 12.0\n",
    "            elif x1 < -12:\n",
    "                mutated_offspring[i,0] = -12.0\n",
    "\n",
    "        #evaluation        \n",
    "        mutated_offspring_objective_function_output  = []\n",
    "        for i in range(mutated_offspring.shape[0]):\n",
    "            x1 = mutated_offspring[i,0] \n",
    "            x2 = mutated_offspring[i,1]\n",
    "            objective_function = 21.5 + x1*np.sin(4*np.pi*x1) + x2*np.sin(20*np.pi*x2) \n",
    "            mutated_offspring_objective_function_output.append(objective_function)\n",
    "\n",
    "        #selecting new individuals  \n",
    "        weakest_indices = np.argsort(objective_function_output)[0:mutated_offspring.shape[0]]\n",
    "        population[weakest_indices,:] = mutated_offspring\n",
    "\n",
    "\n",
    "    #optimal solution  \n",
    "    objective_function_output  = []\n",
    "    \n",
    "    for i in range(size_of_population):\n",
    "        x1 = population[i,0] \n",
    "        x2 = population[i,1]\n",
    "        \n",
    "        objective_function = 21.5 + x1*np.sin(4*np.pi*x1) + x2*np.sin(20*np.pi*x2) \n",
    "        objective_function_output.append(objective_function)\n",
    "\n",
    "    optimal_solution = population[np.argmax(objective_function_output),:]\n",
    "    \n",
    "    return optimal_solution, generation_mean, generation_max"
   ]
  },
  {
   "cell_type": "code",
   "execution_count": 202,
   "metadata": {},
   "outputs": [],
   "source": [
    "optimal_solution_runs = []\n",
    "generation_mean_runs = []\n",
    "generation_max_runs = []\n",
    "\n",
    "number_of_runs = 10\n",
    "\n",
    "for run in range(number_of_runs):\n",
    "    optimal_solution, generation_mean, generation_max = genetic_algo()\n",
    "    \n",
    "    optimal_solution_runs.append(optimal_solution)\n",
    "    generation_mean_runs.append(generation_mean)\n",
    "    generation_max_runs.append(generation_max)\n",
    "    \n",
    "optimal_solution_runs = np.array(optimal_solution_runs)\n",
    "generation_mean_runs = np.array(generation_mean_runs)\n",
    "generation_max_runs = np.array(generation_max_runs)"
   ]
  },
  {
   "cell_type": "code",
   "execution_count": 203,
   "metadata": {},
   "outputs": [
    {
     "data": {
      "text/plain": [
       "array([1., 6.])"
      ]
     },
     "execution_count": 203,
     "metadata": {},
     "output_type": "execute_result"
    }
   ],
   "source": [
    "optimal_solution"
   ]
  },
  {
   "cell_type": "code",
   "execution_count": 204,
   "metadata": {},
   "outputs": [],
   "source": [
    "mean_max_fitness = np.mean(generation_max_runs, axis=0)\n",
    "std_max_fitness = np.std(generation_max_runs, axis=0)"
   ]
  },
  {
   "cell_type": "code",
   "execution_count": 205,
   "metadata": {},
   "outputs": [],
   "source": [
    "mean_avg_fitness = np.mean(generation_max_runs, axis=0)\n",
    "std_avg_fitness = np.std(generation_max_runs, axis=0)"
   ]
  },
  {
   "cell_type": "code",
   "execution_count": 206,
   "metadata": {},
   "outputs": [
    {
     "data": {
      "image/png": "[encoded data removed]",
      "text/plain": [
       "<Figure size 432x288 with 1 Axes>"
      ]
     },
     "metadata": {
      "needs_background": "light"
     },
     "output_type": "display_data"
    }
   ],
   "source": [
    "plt.plot(np.arange(number_of_generations), mean_max_fitness, 'bo-')\n",
    "#plt.plot(np.arange(number_of_generations), mean_avg_fitness, 'ro-')\n",
    "plt.grid(True)\n",
    "plt.xlabel('Number of generations (time)')\n",
    "plt.ylabel('Mean maximum fitness')\n",
    "#plt.legend(['Mean maximum fitness', 'Mean average fitness'])\n",
    "plt.show()"
   ]
  },
  {
   "cell_type": "code",
   "execution_count": 207,
   "metadata": {},
   "outputs": [
    {
     "data": {
      "image/png": "[encoded data removed]",
      "text/plain": [
       "<Figure size 432x288 with 1 Axes>"
      ]
     },
     "metadata": {
      "needs_background": "light"
     },
     "output_type": "display_data"
    }
   ],
   "source": [
    "plt.plot(np.arange(number_of_generations), std_max_fitness, 'ro-')\n",
    "#plt.plot(np.arange(number_of_generations), mean_avg_fitness, 'ro-')\n",
    "plt.grid(True)\n",
    "plt.xlabel('Number of generations (time)')\n",
    "plt.ylabel('Standard deviation maximum fitness')\n",
    "#plt.legend(['Mean maximum fitness', 'Mean average fitness'])\n",
    "plt.show()"
   ]
  },
  {
   "cell_type": "code",
   "execution_count": 208,
   "metadata": {},
   "outputs": [
    {
     "data": {
      "image/png": "[encoded data removed]",
      "text/plain": [
       "<Figure size 432x288 with 1 Axes>"
      ]
     },
     "metadata": {
      "needs_background": "light"
     },
     "output_type": "display_data"
    }
   ],
   "source": [
    "plt.plot(np.arange(number_of_generations), mean_avg_fitness, 'go-')\n",
    "#plt.plot(np.arange(number_of_generations), mean_avg_fitness, 'ro-')\n",
    "plt.grid(True)\n",
    "plt.xlabel('Number of generations (time)')\n",
    "plt.ylabel('Mean average fitness')\n",
    "#plt.legend(['Mean maximum fitness', 'Mean average fitness'])\n",
    "plt.show()"
   ]
  },
  {
   "cell_type": "code",
   "execution_count": 209,
   "metadata": {},
   "outputs": [
    {
     "data": {
      "image/png": "[encoded data removed]",
      "text/plain": [
       "<Figure size 432x288 with 1 Axes>"
      ]
     },
     "metadata": {
      "needs_background": "light"
     },
     "output_type": "display_data"
    }
   ],
   "source": [
    "plt.plot(np.arange(number_of_generations), std_avg_fitness, 'yo-')\n",
    "#plt.plot(np.arange(number_of_generations), mean_avg_fitness, 'ro-')\n",
    "plt.grid(True)\n",
    "plt.xlabel('Number of generations (time)')\n",
    "plt.ylabel('Standard deviation average fitness')\n",
    "#plt.legend(['Mean maximum fitness', 'Mean average fitness'])\n",
    "plt.show()"
   ]
  },
  {
   "cell_type": "code",
   "execution_count": null,
   "metadata": {},
   "outputs": [],
   "source": []
  },
  {
   "cell_type": "code",
   "execution_count": 210,
   "metadata": {},
   "outputs": [
    {
     "data": {
      "text/plain": [
       "array([[-1.,  6.],\n",
       "       [-0.,  6.],\n",
       "       [ 0.,  6.],\n",
       "       [-0.,  6.],\n",
       "       [-1.,  6.],\n",
       "       [-1.,  6.],\n",
       "       [ 1.,  6.],\n",
       "       [ 1.,  6.],\n",
       "       [ 1.,  6.],\n",
       "       [ 1.,  6.]])"
      ]
     },
     "execution_count": 210,
     "metadata": {},
     "output_type": "execute_result"
    }
   ],
   "source": [
    "optimal_solution_runs"
   ]
  },
  {
   "cell_type": "code",
   "execution_count": 211,
   "metadata": {},
   "outputs": [
    {
     "data": {
      "text/plain": [
       "array([21.5, 21.5, 21.5, 21.5, 21.5, 21.5, 21.5, 21.5, 21.5, 21.5])"
      ]
     },
     "execution_count": 211,
     "metadata": {},
     "output_type": "execute_result"
    }
   ],
   "source": [
    "generation_max_runs[:,-1]"
   ]
  },
  {
   "cell_type": "code",
   "execution_count": null,
   "metadata": {},
   "outputs": [],
   "source": []
  },
  {
   "cell_type": "code",
   "execution_count": null,
   "metadata": {},
   "outputs": [],
   "source": []
  }
 ],
 "metadata": {
  "kernelspec": {
   "display_name": "Python 3",
   "language": "python",
   "name": "python3"
  },
  "language_info": {
   "codemirror_mode": {
    "name": "ipython",
    "version": 3
   },
   "file_extension": ".py",
   "mimetype": "text/x-python",
   "name": "python",
   "nbconvert_exporter": "python",
   "pygments_lexer": "ipython3",
   "version": "3.7.6"
  }
 },
 "nbformat": 4,
 "nbformat_minor": 4
}
