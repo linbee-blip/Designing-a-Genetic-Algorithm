{
  "nbformat": 4,
  "nbformat_minor": 0,
  "metadata": {
    "colab": {
      "name": "The Puzzle Solution.ipynb",
      "provenance": [],
      "collapsed_sections": []
    },
    "kernelspec": {
      "name": "python3",
      "display_name": "Python 3"
    }
  },
  "cells": [
    {
      "cell_type": "markdown",
      "metadata": {
        "id": "uIMnUvDB469w"
      },
      "source": [
        "#The Puzzle\n",
        "###Description\n",
        "Given an empty rectangular frame of length L and width W and N rectangular tiles, write a GA that arranges the tiles in the Frame in such a way that it minimizes the free space.\n",
        "\n",
        "### Inputs\n",
        "An individual is json, with the following tags-length, width (dimensions of the frame), pieces - number of tiles and puzzle- a list of all the tiles.\n",
        "\n",
        "Each tile is a list [x, y, l, w], where x,y is the bottom left coordinates of the tile and l,w is the dimension of the tile.\n",
        "\n",
        "Population is a json with the desired number(population_size) of individuals.\n",
        "\n",
        "Running the function generate, generates the json file - population.json. The function also generates the solution as a json file (solution.json) when the parameter sol is set to true.\n",
        "\n",
        "\n",
        "### Uploading the support Codes\n",
        "\n",
        "After **uploading** the **Part-A-Support.zip** file, run the below code to extract all the files."
      ]
    },
    {
      "cell_type": "code",
      "metadata": {
        "id": "vLna5Qrk4Ty0",
        "colab": {
          "base_uri": "https://localhost:8080/"
        },
        "outputId": "f1cc381e-8061-4507-819c-45c7c5c1e460"
      },
      "source": [
        "!unzip Part-A-Support.zip"
      ],
      "execution_count": null,
      "outputs": [
        {
          "output_type": "stream",
          "name": "stdout",
          "text": [
            "Archive:  Part-A-Support.zip\n",
            "replace fitnessEval.py? [y]es, [n]o, [A]ll, [N]one, [r]ename: A\n",
            "  inflating: fitnessEval.py          \n",
            "  inflating: generator.py            \n",
            "  inflating: puzzleDraw.py           \n",
            "  inflating: puzzleGenerator.py      \n",
            "  inflating: rotate.py               \n",
            "  inflating: shuffle2DPieces.py      \n",
            "  inflating: split2Dpiece.py         \n"
          ]
        }
      ]
    },
    {
      "cell_type": "markdown",
      "metadata": {
        "id": "rV7KZ6uV5W4o"
      },
      "source": [
        "### Generating Puzzle and Initial Population\n",
        "\n",
        "After running all the codes above once, Use the function **generator(population_size, sol)** to generate a new puzzle and its associated initial population.\n",
        "\n",
        "You can change the population size as needed, and if you want to know about the solution, set sol=True. \n",
        "\n",
        "Two JSON files would be generated, **population.json** and **solution.json** for the population and solution respectively.\n",
        "\n",
        "Download these JSON files and use it as need."
      ]
    },
    {
      "cell_type": "code",
      "metadata": {
        "id": "7CcbSgkM4epW"
      },
      "source": [
        "import generator as gen\n",
        "import json\n",
        "#reading population\n",
        "gen.generate(population_size=100, sol=True)"
      ],
      "execution_count": null,
      "outputs": []
    },
    {
      "cell_type": "markdown",
      "metadata": {
        "id": "LSGdgAX26ahv"
      },
      "source": [
        "# Visualizing the results.\n",
        "\n",
        "Write your solution (which you want to visualize) as a json file (check the solution.json) and upload the file and use the code below to visualize the plots.\n",
        "\n",
        "Incase if you are updating the population.json file, then upload the file and use the fittest individual json for visualization. Refer the codes below.\n",
        "\n",
        "**Note:** Make sure that if it is a new file, upload the file and change the filename in the code"
      ]
    },
    {
      "cell_type": "code",
      "metadata": {
        "id": "PiedtpGe6ZhW",
        "colab": {
          "base_uri": "https://localhost:8080/",
          "height": 188
        },
        "outputId": "9d00cbfa-c548-492b-811e-000ccab8e30a"
      },
      "source": [
        "import puzzleDraw as pd\n",
        "with open(\"solution.json\",'r') as f:\n",
        "  solution = json.loads(f.read());\n",
        "pd.draw2(json.dumps(solution))"
      ],
      "execution_count": null,
      "outputs": [
        {
          "output_type": "display_data",
          "data": {
            "image/png": "[encoded data removed]",
            "text/plain": [
              "<Figure size 432x288 with 1 Axes>"
            ]
          },
          "metadata": {
            "needs_background": "light"
          }
        }
      ]
    },
    {
      "cell_type": "code",
      "metadata": {
        "id": "7IN7axX86wDY",
        "colab": {
          "base_uri": "https://localhost:8080/",
          "height": 265
        },
        "outputId": "67e24115-fb7d-4df2-efbc-8253639e8257"
      },
      "source": [
        "with open(\"population.json\",'r') as f:\n",
        "  population = json.loads(f.read());\n",
        "\n",
        "pd.draw2(json.dumps(population[\"95\"]))"
      ],
      "execution_count": null,
      "outputs": [
        {
          "output_type": "display_data",
          "data": {
            "image/png": "[encoded data removed]",
            "text/plain": [
              "<Figure size 432x288 with 1 Axes>"
            ]
          },
          "metadata": {
            "needs_background": "light"
          }
        }
      ]
    },
    {
      "cell_type": "markdown",
      "metadata": {
        "id": "99HJsn1V6smU"
      },
      "source": [
        "# Fitness Evaluation\n",
        "\n",
        "Fitness of an individual is a reflection of how well the tiles fit in the frame, which could be measured by finding the percentage of freespace in the frame.\n",
        "\n",
        "A sample of the fitness evaluation(written in python) is shared, please refer to the function in fitnessEval.py."
      ]
    },
    {
      "cell_type": "code",
      "metadata": {
        "id": "uK1D6TwI6WFs",
        "colab": {
          "base_uri": "https://localhost:8080/",
          "height": 35
        },
        "outputId": "287d8b00-8a48-45c0-b786-6174f56ca562"
      },
      "source": [
        "import fitnessEval as fit\n",
        "fit.fitnessEval(json.dumps(solution))"
      ],
      "execution_count": null,
      "outputs": [
        {
          "output_type": "execute_result",
          "data": {
            "application/vnd.google.colaboratory.intrinsic+json": {
              "type": "string"
            },
            "text/plain": [
              "'{\"fitness\": 0.0}'"
            ]
          },
          "metadata": {},
          "execution_count": 5
        }
      ]
    },
    {
      "cell_type": "code",
      "metadata": {
        "id": "9txSlKyT7FCq",
        "colab": {
          "base_uri": "https://localhost:8080/",
          "height": 35
        },
        "outputId": "bb9db8f0-633e-4cbe-b1b6-500995c84dda"
      },
      "source": [
        "fit.fitnessEval(json.dumps(population[\"99\"]))"
      ],
      "execution_count": null,
      "outputs": [
        {
          "output_type": "execute_result",
          "data": {
            "application/vnd.google.colaboratory.intrinsic+json": {
              "type": "string"
            },
            "text/plain": [
              "'{\"fitness\": 33.12990409764603}'"
            ]
          },
          "metadata": {},
          "execution_count": 6
        }
      ]
    },
    {
      "cell_type": "markdown",
      "metadata": {
        "id": "wJTw3Ljj7Jb3"
      },
      "source": [
        "### Additional Support\n",
        "\n",
        "Sample JSON read/write codes in JAVA/C++ are provided as port of the Assignment.\n",
        "\n",
        "For additional Support please reach out to Alen/Koa."
      ]
    },
    {
      "cell_type": "code",
      "metadata": {
        "id": "0ZestonuIZsq"
      },
      "source": [
        ""
      ],
      "execution_count": null,
      "outputs": []
    },
    {
      "cell_type": "markdown",
      "metadata": {
        "id": "IaqiTq2aIgYB"
      },
      "source": [
        "### SOLUTION\n"
      ]
    },
    {
      "cell_type": "code",
      "metadata": {
        "id": "dFsaruWjIjNh"
      },
      "source": [
        "import numpy as np\n",
        "import matplotlib.pyplot as plt\n",
        "from rotate import rotate\n",
        "from shuffle2DPieces import scatter\n",
        "import puzzleGenerator as puzzle_gen"
      ],
      "execution_count": null,
      "outputs": []
    },
    {
      "cell_type": "code",
      "metadata": {
        "id": "m7ki4vA5Il0K"
      },
      "source": [
        "def representation(population):\n",
        "  genotypes = []\n",
        "  for i in range(len(population)):\n",
        "    genotypes.append(np.array(population[str(i)]['puzzle']))\n",
        "  return genotypes"
      ],
      "execution_count": null,
      "outputs": []
    },
    {
      "cell_type": "code",
      "metadata": {
        "id": "SYUkZLw5Iozl"
      },
      "source": [
        "def parent_selection(population, num_parents):\n",
        "  fitness = []\n",
        "  for i in range(len(population)):\n",
        "    fitness.append(100-fitness_function(population[str(i)]))\n",
        "  fitness = np.array(fitness)\n",
        "  probs = fitness/np.sum(fitness)\n",
        "  parents_indices = np.random.choice(np.arange(len(population)), num_parents, replace=False, p=probs)\n",
        "  parents = {str(index): population[str(parents_indices[index])] for index in range(len(parents_indices))}\n",
        "  return parents"
      ],
      "execution_count": null,
      "outputs": []
    },
    {
      "cell_type": "code",
      "metadata": {
        "id": "yfCCVKlbIriw"
      },
      "source": [
        "def crossover(parents):\n",
        "  genotypes = representation(parents)\n",
        "  num_offsprings = int((len(parents)/2))\n",
        "  offsprings = {}\n",
        "  for i in range(num_offsprings): \n",
        "    parent1 = genotypes[i]\n",
        "    parent2 = genotypes[i+num_offsprings]\n",
        "    offspring = parents[str(i)].copy()\n",
        "    tiles = []\n",
        "    for j in range(len(parents[str(i)]['puzzle'])):\n",
        "      x1, y1, l1, w1 = parent1[j,:]\n",
        "      x2, y2, l2, w2 = parent2[j,:]\n",
        "      if l1 == l2:\n",
        "        l_offspring = l1\n",
        "        w_offspring = w1\n",
        "        x_offspring = round((x1 + x2)/2)\n",
        "        y_offspring = round((y1 + y2)/2)\n",
        "      else:\n",
        "        if np.random.uniform(0,1) > 0.5:\n",
        "          l_offspring, w_offspring = l1, w1\n",
        "          x_offspring, y_offspring = x1, y1\n",
        "        else:\n",
        "          l_offspring, w_offspring = l2, w2\n",
        "          x_offspring, y_offspring = x2, y2\n",
        "\n",
        "      tiles.append([x_offspring, y_offspring, l_offspring, w_offspring])\n",
        "    offspring['puzzle'] = tiles\n",
        "    offsprings[str(i)] = offspring\n",
        "  return offsprings"
      ],
      "execution_count": null,
      "outputs": []
    },
    {
      "cell_type": "code",
      "metadata": {
        "id": "MgXrE_qrIuAY"
      },
      "source": [
        "def mutation(offsprings):\n",
        "  mutated_offsprings = {}\n",
        "  for i in range(len(offsprings)):\n",
        "    L = offsprings[str(i)]['length']\n",
        "    W = offsprings[str(i)]['width']\n",
        "    pieces = offsprings[str(i)]['puzzle']\n",
        "    if np.random.uniform(0,1) > 0.5:\n",
        "      puzzle = rotate(pieces)\n",
        "      offsprings[str(i)]['puzzle'] = puzzle\n",
        "    if np.random.uniform(0,1) > 0.5:\n",
        "      puzzle = scatter(pieces,L,W)\n",
        "      offsprings[str(i)]['puzzle'] = puzzle\n",
        "    mutated_offsprings[str(i)] = offsprings[str(i)]\n",
        "  return mutated_offsprings"
      ],
      "execution_count": null,
      "outputs": []
    },
    {
      "cell_type": "code",
      "metadata": {
        "id": "9R5GwR31Ixiq"
      },
      "source": [
        "def survivor_selection(population, mutated_offsprings):\n",
        "  fitness = []\n",
        "  for i in range(len(population)):\n",
        "    fitness.append(100-fitness_function(population[str(i)]))\n",
        "  fitness = np.array(fitness)\n",
        "  indices = np.argsort(fitness)[0:len(mutated_offsprings)]\n",
        "  for index in range(len(indices)):\n",
        "    population[str(indices[index])] = mutated_offsprings[str(index)]\n",
        "  return population"
      ],
      "execution_count": null,
      "outputs": []
    },
    {
      "cell_type": "code",
      "metadata": {
        "id": "fEQx2e7cIzeo"
      },
      "source": [
        "def fittest(population):\n",
        "  fitness = []\n",
        "  for i in range(len(population)):\n",
        "    fitness.append(100-fitness_function(population[str(i)]))\n",
        "  fitness = np.array(fitness)\n",
        "  return max(fitness), population[str(np.argmax(fitness))]"
      ],
      "execution_count": null,
      "outputs": []
    },
    {
      "cell_type": "code",
      "metadata": {
        "id": "qrEMAJr6I1bT"
      },
      "source": [
        "def draw(obj):\n",
        "  pieces = obj['puzzle']\n",
        "  plt.axes()\n",
        "  rectangle = plt.Rectangle((0, 0), obj['length'], obj['width'], ec=\"yellow\")\n",
        "  print(obj['length'], obj['width'])\n",
        "  plt.gca().add_patch(rectangle)\n",
        "  for i in pieces:\n",
        "    x1 = i[0]\n",
        "    y1 = i[1]\n",
        "    x2 = i[2]\n",
        "    y2 = i[3]\n",
        "    rectangle = plt.Rectangle((x1, y1), x2, y2, fc='blue', ec=\"red\")\n",
        "    plt.gca().add_patch(rectangle)\n",
        "  plt.axis('scaled')\n",
        "  plt.show()"
      ],
      "execution_count": null,
      "outputs": []
    },
    {
      "cell_type": "code",
      "metadata": {
        "id": "qFhlGz5uI4RZ"
      },
      "source": [
        "def fitness_function(obj):\n",
        "    pieces = obj['puzzle']\n",
        "    l = obj['length']\n",
        "    w = obj['width']\n",
        "    if len(pieces) == 0 or l == None or l == 0 or w == None or w == 0:\n",
        "        return json.dumps({'fitness': 'input error'})\n",
        "    frame = [[1 for _ in range(l)] for _ in range(w)]\n",
        "    count = 0\n",
        "    for p in pieces:\n",
        "        count += 1\n",
        "        for j in range(p[1], p[1] + int(p[3])):\n",
        "            for i in range(p[0], p[0] + int(p[2])):\n",
        "                if i < l and j < w:\n",
        "                    frame[j][i] = 0\n",
        "    free_space = 0\n",
        "    frame = frame[::-1]\n",
        "    for i in frame:\n",
        "        for k in i:\n",
        "            free_space += k\n",
        "    return free_space/(l*w) * 100"
      ],
      "execution_count": null,
      "outputs": []
    },
    {
      "cell_type": "code",
      "metadata": {
        "id": "LxBkPljzI6JZ"
      },
      "source": [
        "#reading population\n",
        "gen.generate(population_size=200, sol=True)\n",
        "with open(\"population.json\",'r') as f:\n",
        "  population = json.loads(f.read());\n",
        "\n",
        "num_generations = 200\n",
        "num_parents = 100\n",
        "fitness_values = []\n",
        "for generation in range(num_generations):\n",
        "  #print(generation)\n",
        "  parents = parent_selection(population, num_parents)\n",
        "  offsprings = crossover(parents)\n",
        "  mutated_offsprings = mutation(offsprings)\n",
        "  population = survivor_selection(population, mutated_offsprings)\n",
        "  fitness_val, fittest_individual = fittest(population)\n",
        "  fitness_values.append(fitness_val)"
      ],
      "execution_count": null,
      "outputs": []
    },
    {
      "cell_type": "code",
      "metadata": {
        "colab": {
          "base_uri": "https://localhost:8080/"
        },
        "id": "DuM1wdgrI8W6",
        "outputId": "67b9a127-8c52-4a7a-dbe4-0fd8d9eb7564"
      },
      "source": [
        "fittest_individual"
      ],
      "execution_count": null,
      "outputs": [
        {
          "output_type": "execute_result",
          "data": {
            "text/plain": [
              "{'length': 116,\n",
              " 'pieces': 36,\n",
              " 'puzzle': [[13, 39, 4, 20],\n",
              "  [84, 38, 20, 2],\n",
              "  [36, 28, 20, 4],\n",
              "  [68, 21, 49, 3],\n",
              "  [24, 22, 6, 4],\n",
              "  [31, 40, 5, 6],\n",
              "  [40, 24, 10, 37],\n",
              "  [19, 48, 12, 2],\n",
              "  [76, 25, 2, 20],\n",
              "  [98, 6, 20, 4],\n",
              "  [52, 34, 3, 7],\n",
              "  [48, 39, 4, 7],\n",
              "  [80, 35, 3, 15],\n",
              "  [50, 15, 3, 15],\n",
              "  [55, 6, 2, 12],\n",
              "  [76, 38, 6, 3],\n",
              "  [78, 26, 3, 6],\n",
              "  [86, 32, 3, 9],\n",
              "  [38, 4, 6, 2],\n",
              "  [16, 30, 6, 4],\n",
              "  [64, 2, 4, 9],\n",
              "  [83, 30, 9, 13],\n",
              "  [94, 15, 2, 7],\n",
              "  [42, 13, 5, 7],\n",
              "  [64, 21, 28, 5],\n",
              "  [59, 20, 7, 28],\n",
              "  [69, 22, 7, 17],\n",
              "  [77, 40, 2, 17],\n",
              "  [94, 18, 17, 5],\n",
              "  [64, 30, 83, 3],\n",
              "  [36, 25, 83, 3],\n",
              "  [16, 1, 83, 19],\n",
              "  [97, 27, 83, 2],\n",
              "  [24, 36, 83, 10],\n",
              "  [52, 36, 9, 12],\n",
              "  [8, 2, 12, 46]],\n",
              " 'width': 49}"
            ]
          },
          "metadata": {},
          "execution_count": 17
        }
      ]
    },
    {
      "cell_type": "code",
      "metadata": {
        "colab": {
          "base_uri": "https://localhost:8080/"
        },
        "id": "3mGwwPJ8I_gQ",
        "outputId": "70ca8c94-a374-447f-bbb6-9d8e9dee7d08"
      },
      "source": [
        "fitness_val"
      ],
      "execution_count": null,
      "outputs": [
        {
          "output_type": "execute_result",
          "data": {
            "text/plain": [
              "70.8128078817734"
            ]
          },
          "metadata": {},
          "execution_count": 18
        }
      ]
    },
    {
      "cell_type": "code",
      "metadata": {
        "colab": {
          "base_uri": "https://localhost:8080/",
          "height": 295
        },
        "id": "RzEAkTV0JCRR",
        "outputId": "4f4f8f9e-d5eb-4637-9e6c-5e54404a9371"
      },
      "source": [
        "plt.plot(fitness_values, 'b-')\n",
        "plt.grid(True)\n",
        "plt.xlabel('Generation')\n",
        "plt.ylabel('Fitness function (% used space)')\n",
        "plt.title('Fitness value over time')\n",
        "plt.show()"
      ],
      "execution_count": null,
      "outputs": [
        {
          "output_type": "display_data",
          "data": {
            "image/png": "[encoded data removed]",
            "text/plain": [
              "<Figure size 432x288 with 1 Axes>"
            ]
          },
          "metadata": {
            "needs_background": "light"
          }
        }
      ]
    },
    {
      "cell_type": "code",
      "metadata": {
        "colab": {
          "base_uri": "https://localhost:8080/",
          "height": 178
        },
        "id": "_JcCr2inJEQ_",
        "outputId": "01b112cb-95f1-44c1-9d67-4fcf52d1e3ef"
      },
      "source": [
        "draw(fittest_individual)"
      ],
      "execution_count": null,
      "outputs": [
        {
          "output_type": "stream",
          "name": "stdout",
          "text": [
            "116 49\n"
          ]
        },
        {
          "output_type": "display_data",
          "data": {
            "image/png": "[encoded data removed]",
            "text/plain": [
              "<Figure size 432x288 with 1 Axes>"
            ]
          },
          "metadata": {
            "needs_background": "light"
          }
        }
      ]
    },
    {
      "cell_type": "code",
      "metadata": {
        "id": "wPqaoJsXJGWp",
        "colab": {
          "base_uri": "https://localhost:8080/"
        },
        "outputId": "71dcd444-6282-44a7-ecfe-453797c170c4"
      },
      "source": [
        "population['0']"
      ],
      "execution_count": null,
      "outputs": [
        {
          "output_type": "execute_result",
          "data": {
            "text/plain": [
              "{'length': 116,\n",
              " 'pieces': 36,\n",
              " 'puzzle': [[14, 16, 4, 20],\n",
              "  [25, 37, 20, 2],\n",
              "  [86, 26, 20, 4],\n",
              "  [38, 31, 49, 3],\n",
              "  [116, 33, 6, 4],\n",
              "  [111, 36, 6, 5],\n",
              "  [46, 36, 10, 37],\n",
              "  [67, 2, 2, 12],\n",
              "  [51, 15, 20, 2],\n",
              "  [114, 16, 4, 20],\n",
              "  [12, 35, 3, 7],\n",
              "  [43, 28, 7, 4],\n",
              "  [102, 4, 3, 15],\n",
              "  [30, 2, 3, 15],\n",
              "  [97, 29, 2, 12],\n",
              "  [43, 49, 6, 3],\n",
              "  [38, 25, 3, 6],\n",
              "  [69, 16, 3, 9],\n",
              "  [111, 18, 6, 2],\n",
              "  [50, 22, 6, 4],\n",
              "  [78, 18, 9, 4],\n",
              "  [47, 47, 9, 13],\n",
              "  [92, 39, 2, 7],\n",
              "  [9, 4, 7, 5],\n",
              "  [47, 43, 5, 28],\n",
              "  [61, 36, 28, 7],\n",
              "  [64, 21, 17, 7],\n",
              "  [66, 11, 17, 2],\n",
              "  [25, 12, 17, 5],\n",
              "  [8, 25, 3, 83],\n",
              "  [22, 35, 83, 3],\n",
              "  [106, 48, 83, 19],\n",
              "  [115, 35, 83, 2],\n",
              "  [112, 1, 10, 83],\n",
              "  [88, 42, 9, 12],\n",
              "  [5, 45, 12, 46]],\n",
              " 'width': 49}"
            ]
          },
          "metadata": {},
          "execution_count": 21
        }
      ]
    },
    {
      "cell_type": "code",
      "metadata": {
        "colab": {
          "base_uri": "https://localhost:8080/"
        },
        "id": "1IDcYtWGqoOo",
        "outputId": "65187ab5-c7e7-4fb5-fc73-58308c4fbd88"
      },
      "source": [
        "population['1']"
      ],
      "execution_count": null,
      "outputs": [
        {
          "output_type": "execute_result",
          "data": {
            "text/plain": [
              "{'length': 116,\n",
              " 'pieces': 36,\n",
              " 'puzzle': [[45, 10, 20, 4],\n",
              "  [40, 26, 2, 20],\n",
              "  [0, 45, 20, 4],\n",
              "  [82, 26, 49, 3],\n",
              "  [75, 24, 6, 4],\n",
              "  [87, 26, 5, 6],\n",
              "  [16, 37, 37, 10],\n",
              "  [33, 16, 2, 12],\n",
              "  [42, 8, 20, 2],\n",
              "  [18, 14, 4, 20],\n",
              "  [40, 30, 7, 3],\n",
              "  [28, 16, 4, 7],\n",
              "  [22, 20, 15, 3],\n",
              "  [100, 40, 3, 15],\n",
              "  [40, 24, 2, 12],\n",
              "  [54, 5, 6, 3],\n",
              "  [53, 19, 3, 6],\n",
              "  [45, 23, 9, 3],\n",
              "  [57, 26, 6, 2],\n",
              "  [33, 15, 6, 4],\n",
              "  [80, 26, 4, 9],\n",
              "  [30, 27, 9, 13],\n",
              "  [26, 38, 7, 2],\n",
              "  [15, 39, 5, 7],\n",
              "  [52, 12, 5, 28],\n",
              "  [94, 0, 28, 7],\n",
              "  [24, 28, 17, 7],\n",
              "  [53, 38, 17, 2],\n",
              "  [39, 8, 17, 5],\n",
              "  [74, 4, 83, 3],\n",
              "  [50, 14, 3, 83],\n",
              "  [75, 35, 19, 83],\n",
              "  [69, 20, 83, 2],\n",
              "  [43, 34, 83, 10],\n",
              "  [50, 47, 12, 9],\n",
              "  [23, 41, 46, 12]],\n",
              " 'width': 49}"
            ]
          },
          "metadata": {},
          "execution_count": 22
        }
      ]
    },
    {
      "cell_type": "code",
      "metadata": {
        "colab": {
          "base_uri": "https://localhost:8080/"
        },
        "id": "2GHIApKUqsrk",
        "outputId": "a1c01fb3-b822-479d-e301-d47306f603e9"
      },
      "source": [
        "population['99']"
      ],
      "execution_count": null,
      "outputs": [
        {
          "output_type": "execute_result",
          "data": {
            "text/plain": [
              "{'length': 116,\n",
              " 'pieces': 36,\n",
              " 'puzzle': [[60, 0, 20, 4],\n",
              "  [76, 33, 20, 2],\n",
              "  [110, 22, 4, 20],\n",
              "  [88, 20, 49, 3],\n",
              "  [36, 30, 4, 6],\n",
              "  [55, 22, 5, 6],\n",
              "  [17, 40, 37, 10],\n",
              "  [66, 8, 2, 12],\n",
              "  [78, 20, 2, 20],\n",
              "  [34, 37, 20, 4],\n",
              "  [61, 14, 7, 3],\n",
              "  [82, 16, 4, 7],\n",
              "  [46, 33, 15, 3],\n",
              "  [24, 24, 3, 15],\n",
              "  [70, 36, 12, 2],\n",
              "  [76, 13, 3, 6],\n",
              "  [89, 23, 3, 6],\n",
              "  [85, 15, 3, 9],\n",
              "  [52, 14, 2, 6],\n",
              "  [62, 31, 6, 4],\n",
              "  [62, 24, 4, 9],\n",
              "  [44, 20, 9, 13],\n",
              "  [58, 17, 2, 7],\n",
              "  [26, 23, 7, 5],\n",
              "  [62, 24, 5, 28],\n",
              "  [26, 24, 7, 28],\n",
              "  [54, 30, 7, 17],\n",
              "  [56, 19, 2, 17],\n",
              "  [34, 21, 17, 5],\n",
              "  [54, 42, 3, 83],\n",
              "  [67, 25, 83, 3],\n",
              "  [33, 11, 83, 19],\n",
              "  [64, 20, 2, 83],\n",
              "  [30, 2, 83, 10],\n",
              "  [51, 36, 9, 12],\n",
              "  [75, 38, 46, 12]],\n",
              " 'width': 49}"
            ]
          },
          "metadata": {},
          "execution_count": 23
        }
      ]
    },
    {
      "cell_type": "code",
      "metadata": {
        "id": "RjTLozkNqtyC"
      },
      "source": [
        ""
      ],
      "execution_count": null,
      "outputs": []
    }
  ]
}